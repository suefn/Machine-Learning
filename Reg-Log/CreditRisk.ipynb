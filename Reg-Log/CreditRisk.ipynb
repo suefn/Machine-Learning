{
  "nbformat": 4,
  "nbformat_minor": 0,
  "metadata": {
    "colab": {
      "provenance": []
    },
    "kernelspec": {
      "name": "python3",
      "display_name": "Python 3"
    },
    "language_info": {
      "name": "python"
    }
  },
  "cells": [
    {
      "cell_type": "markdown",
      "source": [
        "# Modelo de Classificação com Regressão Logística\n",
        "\n",
        "Treinar um modelo com o algoritmo de aprendizado supervisionado Regressão Logística e a técnica de validação cruzada com 10 partições de K-Fold para, com base nos rótulos de bom pagador (1) e possível inadimplente (0) e nas features, estar apto a predizer a probabilidade de o cliente ser bom pagador. Esta probabilidade permite embasar estratégias de segmentação de clientes por grau de risco."
      ],
      "metadata": {
        "id": "XNABQ3ncb_fq"
      }
    },
    {
      "cell_type": "markdown",
      "source": [
        "### ETL"
      ],
      "metadata": {
        "id": "Y86s3gCpmkCQ"
      }
    },
    {
      "cell_type": "code",
      "source": [
        "# importando bibliotecas\n",
        "import numpy as np\n",
        "from numpy import array \n",
        "import pandas as pd\n",
        "import matplotlib.pyplot as plt\n",
        "import seaborn as sns\n",
        "from statistics import mean\n",
        "from sklearn.preprocessing import OrdinalEncoder\n",
        "from sklearn.model_selection import StratifiedKFold, cross_validate, cross_val_score\n",
        "from sklearn import preprocessing\n",
        "from sklearn.linear_model import LogisticRegression\n",
        "from sklearn.metrics import confusion_matrix, roc_curve, auc"
      ],
      "metadata": {
        "id": "ltg1eub-dFjI"
      },
      "execution_count": 1,
      "outputs": []
    },
    {
      "cell_type": "code",
      "source": [
        "# carregando os dados\n",
        "df_lin = pd.read_csv('https://archive.ics.uci.edu/ml/machine-learning-databases/statlog/german/german.data', header=None, sep=' ')"
      ],
      "metadata": {
        "id": "XH2U4FztdXf8"
      },
      "execution_count": 2,
      "outputs": []
    },
    {
      "cell_type": "markdown",
      "source": [
        "Descrição de atributos do dataset German Credit Data\n",
        "\n",
        "*   `status_account`: situação financeira qualitativa da conta | pouco (A11), moderado (A12), rico (A13) ou desconhecido (A14).\n",
        "*   `duration`: duração em meses do crédito concedido.\n",
        "*   `credit_history`: histórico de créditos | nenhum crédito recebido (A30), todos os créditos pagos (A31), créditos existentes pagos até agora (A32), atraso no pagamento no passado (A33) e conta crítica/outros créditos existentes (não neste banco) (A34).             \n",
        "*   `purpose`: propósito do crédito | car novo (A40), carro usado (A41), mobília (A42), rádio/TV (A43), artigos domésticos (A44), reforma (A45), educação (A46), férias (A47), treinamento (A48), negócios (A49) e outros (A410).\n",
        "*   `credit_amount`: valor de crédito concedido.\n",
        "*   `savings_account`: valor em poupança | 0<DM<100 (A61), 100<=DM<500 (A62), 500<=DM<1000 (A63), DM>=1000 (A64) e desconhecido/sem reserva (A65).\n",
        "*   `present_employment`: tempo no atual emprego | desempregado (A71), < 1 ano (A72), 1-4 anos (A73), 4-7 anos (A74) e +7 anos (A75).\n",
        "*   `installment_rate`: Taxa de parcelamento em porcentagem da renda disponível, que indica a proporção da renda disponível do indivíduo que é comprometida com o pagamento das parcelas de um empréstimo ou crédito.\n",
        "*   `personal_status`: estado civil/sexo | M-divorciado/separado (A91), F-divorciada/separada/casada (A92), M-solteiro (A93), M-casado/viúvo (A94) e F-solteira (A95).\n",
        "*   `other_debtors`: acordos de requerimento de crédito | nenhum (A101), co-requerente (A102) e fiador (A103).\n",
        "*   `present_residence`: há quanto tempo vive, em anos, na atual residência.\n",
        "*   `property`: principal bem | imóveis (121), (se não 121) acordo de poupança/seguro de vida (122), (se não 121/122) carro ou algo não contido no atributo 'purpose' (123) e desconhecido/sem propriedades (124). \n",
        "*   `age`: idade do cliente em anos.\n",
        "*   `other_installment_plans`: outras aplicações do crédito | banco (141), lojas (142) e nenhuma (143). \n",
        "*   `housing`: situação de habitação | alugada (A151), própria (A152) e concedida (A153).\n",
        "*   `number_credits`: número de créditos existentes no banco em questão.\n",
        "*   `job`: nível de ocupação | desempregado/não-qualificado/não-residente (A171), não-qualificado/residente (A172), qualificado/funcionário público (A173) e gestor/autônomo/altamente qualificado/militar (A174).\n",
        "*   `dependents`: número de dependentes.\n",
        "*   `telephone`: há registro de número de telefone? | não (191) e sim (192).\n",
        "*   `foreign_worker`: é trabalhador estrangeiro? | sim (A201) e não (A202).\n",
        "*   `class`: rótulos | (1) bom pagador e (0) mal pagador."
      ],
      "metadata": {
        "id": "B-vPj4HJCB3P"
      }
    },
    {
      "cell_type": "code",
      "source": [
        "# adicionando nome às colunas\n",
        "col_names = ['status_account', 'duration', 'credit_history', 'purpose', 'credit_amount',\n",
        "             'savings_account', 'present_employment', 'installment_rate', 'personal_status',\n",
        "             'other_debtors', 'present_residence', 'property', 'age', 'other_installment_plans',\n",
        "             'housing', 'number_credits', 'job', 'dependents', 'telephone', 'foreign_worker', 'class']\n",
        "df_lin.columns = col_names\n",
        "\n",
        "# configurando a variável alvo em 0(bad) ou 1(good)\n",
        "df_lin['class'] = df_lin['class'].map({1: 1, 2: 0})"
      ],
      "metadata": {
        "id": "BdX2sfmqdn9e"
      },
      "execution_count": 3,
      "outputs": []
    },
    {
      "cell_type": "code",
      "source": [
        "# codificando as variáveis categóricas em numéricas\n",
        "cat_cols = ['status_account', 'credit_history', 'purpose', 'savings_account', 'present_employment',\n",
        "            'personal_status', 'other_debtors', 'property', 'other_installment_plans', 'housing', 'job', 'telephone', 'foreign_worker']\n",
        "encoder = OrdinalEncoder()\n",
        "df_lin[cat_cols] = encoder.fit_transform(df_lin[cat_cols])"
      ],
      "metadata": {
        "id": "GGMfm-DOnSIJ"
      },
      "execution_count": 4,
      "outputs": []
    },
    {
      "cell_type": "code",
      "source": [
        "df_lin.head(5)"
      ],
      "metadata": {
        "colab": {
          "base_uri": "https://localhost:8080/",
          "height": 300
        },
        "id": "WEe63RXPfzi8",
        "outputId": "76a3593a-4531-4c6b-cd5e-00ec88b39e53"
      },
      "execution_count": 5,
      "outputs": [
        {
          "output_type": "execute_result",
          "data": {
            "text/plain": [
              "   status_account  duration  credit_history  purpose  credit_amount  \\\n",
              "0             0.0         6             4.0      4.0           1169   \n",
              "1             1.0        48             2.0      4.0           5951   \n",
              "2             3.0        12             4.0      7.0           2096   \n",
              "3             0.0        42             2.0      3.0           7882   \n",
              "4             0.0        24             3.0      0.0           4870   \n",
              "\n",
              "   savings_account  present_employment  installment_rate  personal_status  \\\n",
              "0              4.0                 4.0                 4              2.0   \n",
              "1              0.0                 2.0                 2              1.0   \n",
              "2              0.0                 3.0                 2              2.0   \n",
              "3              0.0                 3.0                 2              2.0   \n",
              "4              0.0                 2.0                 3              2.0   \n",
              "\n",
              "   other_debtors  ...  property  age  other_installment_plans  housing  \\\n",
              "0            0.0  ...       0.0   67                      2.0      1.0   \n",
              "1            0.0  ...       0.0   22                      2.0      1.0   \n",
              "2            0.0  ...       0.0   49                      2.0      1.0   \n",
              "3            2.0  ...       1.0   45                      2.0      2.0   \n",
              "4            0.0  ...       3.0   53                      2.0      2.0   \n",
              "\n",
              "   number_credits  job  dependents  telephone  foreign_worker  class  \n",
              "0               2  2.0           1        1.0             0.0      1  \n",
              "1               1  2.0           1        0.0             0.0      0  \n",
              "2               1  1.0           2        0.0             0.0      1  \n",
              "3               1  2.0           2        0.0             0.0      1  \n",
              "4               2  2.0           2        0.0             0.0      0  \n",
              "\n",
              "[5 rows x 21 columns]"
            ],
            "text/html": [
              "\n",
              "  <div id=\"df-3a532aad-6b43-4ce4-9421-f71c9e81bae8\">\n",
              "    <div class=\"colab-df-container\">\n",
              "      <div>\n",
              "<style scoped>\n",
              "    .dataframe tbody tr th:only-of-type {\n",
              "        vertical-align: middle;\n",
              "    }\n",
              "\n",
              "    .dataframe tbody tr th {\n",
              "        vertical-align: top;\n",
              "    }\n",
              "\n",
              "    .dataframe thead th {\n",
              "        text-align: right;\n",
              "    }\n",
              "</style>\n",
              "<table border=\"1\" class=\"dataframe\">\n",
              "  <thead>\n",
              "    <tr style=\"text-align: right;\">\n",
              "      <th></th>\n",
              "      <th>status_account</th>\n",
              "      <th>duration</th>\n",
              "      <th>credit_history</th>\n",
              "      <th>purpose</th>\n",
              "      <th>credit_amount</th>\n",
              "      <th>savings_account</th>\n",
              "      <th>present_employment</th>\n",
              "      <th>installment_rate</th>\n",
              "      <th>personal_status</th>\n",
              "      <th>other_debtors</th>\n",
              "      <th>...</th>\n",
              "      <th>property</th>\n",
              "      <th>age</th>\n",
              "      <th>other_installment_plans</th>\n",
              "      <th>housing</th>\n",
              "      <th>number_credits</th>\n",
              "      <th>job</th>\n",
              "      <th>dependents</th>\n",
              "      <th>telephone</th>\n",
              "      <th>foreign_worker</th>\n",
              "      <th>class</th>\n",
              "    </tr>\n",
              "  </thead>\n",
              "  <tbody>\n",
              "    <tr>\n",
              "      <th>0</th>\n",
              "      <td>0.0</td>\n",
              "      <td>6</td>\n",
              "      <td>4.0</td>\n",
              "      <td>4.0</td>\n",
              "      <td>1169</td>\n",
              "      <td>4.0</td>\n",
              "      <td>4.0</td>\n",
              "      <td>4</td>\n",
              "      <td>2.0</td>\n",
              "      <td>0.0</td>\n",
              "      <td>...</td>\n",
              "      <td>0.0</td>\n",
              "      <td>67</td>\n",
              "      <td>2.0</td>\n",
              "      <td>1.0</td>\n",
              "      <td>2</td>\n",
              "      <td>2.0</td>\n",
              "      <td>1</td>\n",
              "      <td>1.0</td>\n",
              "      <td>0.0</td>\n",
              "      <td>1</td>\n",
              "    </tr>\n",
              "    <tr>\n",
              "      <th>1</th>\n",
              "      <td>1.0</td>\n",
              "      <td>48</td>\n",
              "      <td>2.0</td>\n",
              "      <td>4.0</td>\n",
              "      <td>5951</td>\n",
              "      <td>0.0</td>\n",
              "      <td>2.0</td>\n",
              "      <td>2</td>\n",
              "      <td>1.0</td>\n",
              "      <td>0.0</td>\n",
              "      <td>...</td>\n",
              "      <td>0.0</td>\n",
              "      <td>22</td>\n",
              "      <td>2.0</td>\n",
              "      <td>1.0</td>\n",
              "      <td>1</td>\n",
              "      <td>2.0</td>\n",
              "      <td>1</td>\n",
              "      <td>0.0</td>\n",
              "      <td>0.0</td>\n",
              "      <td>0</td>\n",
              "    </tr>\n",
              "    <tr>\n",
              "      <th>2</th>\n",
              "      <td>3.0</td>\n",
              "      <td>12</td>\n",
              "      <td>4.0</td>\n",
              "      <td>7.0</td>\n",
              "      <td>2096</td>\n",
              "      <td>0.0</td>\n",
              "      <td>3.0</td>\n",
              "      <td>2</td>\n",
              "      <td>2.0</td>\n",
              "      <td>0.0</td>\n",
              "      <td>...</td>\n",
              "      <td>0.0</td>\n",
              "      <td>49</td>\n",
              "      <td>2.0</td>\n",
              "      <td>1.0</td>\n",
              "      <td>1</td>\n",
              "      <td>1.0</td>\n",
              "      <td>2</td>\n",
              "      <td>0.0</td>\n",
              "      <td>0.0</td>\n",
              "      <td>1</td>\n",
              "    </tr>\n",
              "    <tr>\n",
              "      <th>3</th>\n",
              "      <td>0.0</td>\n",
              "      <td>42</td>\n",
              "      <td>2.0</td>\n",
              "      <td>3.0</td>\n",
              "      <td>7882</td>\n",
              "      <td>0.0</td>\n",
              "      <td>3.0</td>\n",
              "      <td>2</td>\n",
              "      <td>2.0</td>\n",
              "      <td>2.0</td>\n",
              "      <td>...</td>\n",
              "      <td>1.0</td>\n",
              "      <td>45</td>\n",
              "      <td>2.0</td>\n",
              "      <td>2.0</td>\n",
              "      <td>1</td>\n",
              "      <td>2.0</td>\n",
              "      <td>2</td>\n",
              "      <td>0.0</td>\n",
              "      <td>0.0</td>\n",
              "      <td>1</td>\n",
              "    </tr>\n",
              "    <tr>\n",
              "      <th>4</th>\n",
              "      <td>0.0</td>\n",
              "      <td>24</td>\n",
              "      <td>3.0</td>\n",
              "      <td>0.0</td>\n",
              "      <td>4870</td>\n",
              "      <td>0.0</td>\n",
              "      <td>2.0</td>\n",
              "      <td>3</td>\n",
              "      <td>2.0</td>\n",
              "      <td>0.0</td>\n",
              "      <td>...</td>\n",
              "      <td>3.0</td>\n",
              "      <td>53</td>\n",
              "      <td>2.0</td>\n",
              "      <td>2.0</td>\n",
              "      <td>2</td>\n",
              "      <td>2.0</td>\n",
              "      <td>2</td>\n",
              "      <td>0.0</td>\n",
              "      <td>0.0</td>\n",
              "      <td>0</td>\n",
              "    </tr>\n",
              "  </tbody>\n",
              "</table>\n",
              "<p>5 rows × 21 columns</p>\n",
              "</div>\n",
              "      <button class=\"colab-df-convert\" onclick=\"convertToInteractive('df-3a532aad-6b43-4ce4-9421-f71c9e81bae8')\"\n",
              "              title=\"Convert this dataframe to an interactive table.\"\n",
              "              style=\"display:none;\">\n",
              "        \n",
              "  <svg xmlns=\"http://www.w3.org/2000/svg\" height=\"24px\"viewBox=\"0 0 24 24\"\n",
              "       width=\"24px\">\n",
              "    <path d=\"M0 0h24v24H0V0z\" fill=\"none\"/>\n",
              "    <path d=\"M18.56 5.44l.94 2.06.94-2.06 2.06-.94-2.06-.94-.94-2.06-.94 2.06-2.06.94zm-11 1L8.5 8.5l.94-2.06 2.06-.94-2.06-.94L8.5 2.5l-.94 2.06-2.06.94zm10 10l.94 2.06.94-2.06 2.06-.94-2.06-.94-.94-2.06-.94 2.06-2.06.94z\"/><path d=\"M17.41 7.96l-1.37-1.37c-.4-.4-.92-.59-1.43-.59-.52 0-1.04.2-1.43.59L10.3 9.45l-7.72 7.72c-.78.78-.78 2.05 0 2.83L4 21.41c.39.39.9.59 1.41.59.51 0 1.02-.2 1.41-.59l7.78-7.78 2.81-2.81c.8-.78.8-2.07 0-2.86zM5.41 20L4 18.59l7.72-7.72 1.47 1.35L5.41 20z\"/>\n",
              "  </svg>\n",
              "      </button>\n",
              "      \n",
              "  <style>\n",
              "    .colab-df-container {\n",
              "      display:flex;\n",
              "      flex-wrap:wrap;\n",
              "      gap: 12px;\n",
              "    }\n",
              "\n",
              "    .colab-df-convert {\n",
              "      background-color: #E8F0FE;\n",
              "      border: none;\n",
              "      border-radius: 50%;\n",
              "      cursor: pointer;\n",
              "      display: none;\n",
              "      fill: #1967D2;\n",
              "      height: 32px;\n",
              "      padding: 0 0 0 0;\n",
              "      width: 32px;\n",
              "    }\n",
              "\n",
              "    .colab-df-convert:hover {\n",
              "      background-color: #E2EBFA;\n",
              "      box-shadow: 0px 1px 2px rgba(60, 64, 67, 0.3), 0px 1px 3px 1px rgba(60, 64, 67, 0.15);\n",
              "      fill: #174EA6;\n",
              "    }\n",
              "\n",
              "    [theme=dark] .colab-df-convert {\n",
              "      background-color: #3B4455;\n",
              "      fill: #D2E3FC;\n",
              "    }\n",
              "\n",
              "    [theme=dark] .colab-df-convert:hover {\n",
              "      background-color: #434B5C;\n",
              "      box-shadow: 0px 1px 3px 1px rgba(0, 0, 0, 0.15);\n",
              "      filter: drop-shadow(0px 1px 2px rgba(0, 0, 0, 0.3));\n",
              "      fill: #FFFFFF;\n",
              "    }\n",
              "  </style>\n",
              "\n",
              "      <script>\n",
              "        const buttonEl =\n",
              "          document.querySelector('#df-3a532aad-6b43-4ce4-9421-f71c9e81bae8 button.colab-df-convert');\n",
              "        buttonEl.style.display =\n",
              "          google.colab.kernel.accessAllowed ? 'block' : 'none';\n",
              "\n",
              "        async function convertToInteractive(key) {\n",
              "          const element = document.querySelector('#df-3a532aad-6b43-4ce4-9421-f71c9e81bae8');\n",
              "          const dataTable =\n",
              "            await google.colab.kernel.invokeFunction('convertToInteractive',\n",
              "                                                     [key], {});\n",
              "          if (!dataTable) return;\n",
              "\n",
              "          const docLinkHtml = 'Like what you see? Visit the ' +\n",
              "            '<a target=\"_blank\" href=https://colab.research.google.com/notebooks/data_table.ipynb>data table notebook</a>'\n",
              "            + ' to learn more about interactive tables.';\n",
              "          element.innerHTML = '';\n",
              "          dataTable['output_type'] = 'display_data';\n",
              "          await google.colab.output.renderOutput(dataTable, element);\n",
              "          const docLink = document.createElement('div');\n",
              "          docLink.innerHTML = docLinkHtml;\n",
              "          element.appendChild(docLink);\n",
              "        }\n",
              "      </script>\n",
              "    </div>\n",
              "  </div>\n",
              "  "
            ]
          },
          "metadata": {},
          "execution_count": 5
        }
      ]
    },
    {
      "cell_type": "code",
      "source": [
        "# top 10 correlações mais significantes com o rótulo. Serão utilizadas como features.\n",
        "df_lin.corr()['class'].nlargest(11)"
      ],
      "metadata": {
        "colab": {
          "base_uri": "https://localhost:8080/"
        },
        "id": "fwkIyPktm9P6",
        "outputId": "b10b1ad8-eedf-4dfc-f359-901e6e9fd24f"
      },
      "execution_count": 6,
      "outputs": [
        {
          "output_type": "execute_result",
          "data": {
            "text/plain": [
              "class                      1.000000\n",
              "status_account             0.350847\n",
              "credit_history             0.228785\n",
              "savings_account            0.178943\n",
              "present_employment         0.116002\n",
              "other_installment_plans    0.109844\n",
              "age                        0.091127\n",
              "personal_status            0.088184\n",
              "foreign_worker             0.082079\n",
              "number_credits             0.045732\n",
              "telephone                  0.036466\n",
              "Name: class, dtype: float64"
            ]
          },
          "metadata": {},
          "execution_count": 6
        }
      ]
    },
    {
      "cell_type": "code",
      "source": [
        "# vendo a quantidade de amostras boas e ruins na base\n",
        "df_lin['class'].value_counts()"
      ],
      "metadata": {
        "colab": {
          "base_uri": "https://localhost:8080/"
        },
        "id": "Bj_3a6_ahapG",
        "outputId": "c3069d26-ec4d-4e73-d89a-33cff3b7a603"
      },
      "execution_count": 7,
      "outputs": [
        {
          "output_type": "execute_result",
          "data": {
            "text/plain": [
              "1    700\n",
              "0    300\n",
              "Name: class, dtype: int64"
            ]
          },
          "metadata": {},
          "execution_count": 7
        }
      ]
    },
    {
      "cell_type": "markdown",
      "source": [
        "condição de dados desbalanceados identificada! Vamos utilizar Stratified KFold na validação cruzada."
      ],
      "metadata": {
        "id": "4Lwa-jBIlzLB"
      }
    },
    {
      "cell_type": "code",
      "source": [
        "# escolhendo duas colunas significantes\n",
        "x_column = 'credit_amount'  # coluna numérica para o eixo x\n",
        "y_column = 'duration'  # coluna numérica para o eixo y\n",
        "label_column = 'class'       # coluna de rótulos\n",
        "\n",
        "# filtrando os dados para os rótulos desejados\n",
        "filtered_data = df_lin[df_lin[label_column].isin([1, 0])]\n",
        "\n",
        "# dividindo os dados por rótulo\n",
        "label_1_data = filtered_data[filtered_data[label_column] == 1]\n",
        "label_2_data = filtered_data[filtered_data[label_column] == 0]\n",
        "\n",
        "# criando o scatter plot\n",
        "plt.scatter(label_1_data[x_column], label_1_data[y_column], color='red', label='Bom Crédito')\n",
        "plt.scatter(label_2_data[x_column], label_2_data[y_column], color='blue', label='Crédito Ruim')\n",
        "plt.xlabel(x_column)\n",
        "plt.ylabel(y_column)\n",
        "plt.title('Distribuição entre Bom Crédito e Crédito Ruim')\n",
        "plt.legend()\n",
        "plt.show()\n"
      ],
      "metadata": {
        "colab": {
          "base_uri": "https://localhost:8080/",
          "height": 472
        },
        "id": "J_xGpPJZ9TMP",
        "outputId": "c7ecc84f-f1a7-49d8-f12d-a88ad553c794"
      },
      "execution_count": 8,
      "outputs": [
        {
          "output_type": "display_data",
          "data": {
            "text/plain": [
              "<Figure size 640x480 with 1 Axes>"
            ],
            "image/png": "[encoded data removed]"
          },
          "metadata": {}
        }
      ]
    },
    {
      "cell_type": "markdown",
      "source": [
        "### Modelagem & Performance"
      ],
      "metadata": {
        "id": "uv9vSXoOXmRd"
      }
    },
    {
      "cell_type": "code",
      "source": [
        "X = df_lin[['status_account', 'credit_history', 'savings_account', 'present_employment', 'other_installment_plans',\n",
        "            'age', 'personal_status', 'foreign_worker', 'number_credits', 'telephone']].values\n",
        "\n",
        "y = df_lin['class'].values"
      ],
      "metadata": {
        "id": "do6uBCjWlPRi"
      },
      "execution_count": 9,
      "outputs": []
    },
    {
      "cell_type": "code",
      "source": [
        "# normalizando dados para que o treinamento do modelo não seja afetado por outliers\n",
        "scaler = preprocessing.MinMaxScaler()\n",
        "X_scaled = scaler.fit_transform(X)"
      ],
      "metadata": {
        "id": "fSK5GkRoozMB"
      },
      "execution_count": 10,
      "outputs": []
    },
    {
      "cell_type": "code",
      "source": [
        "# criando modelo\n",
        "model = LogisticRegression(multi_class='multinomial', solver='lbfgs', max_iter=1000)"
      ],
      "metadata": {
        "id": "rbAIVeLKo0Z8"
      },
      "execution_count": 11,
      "outputs": []
    },
    {
      "cell_type": "code",
      "source": [
        "# criando a configuração do StratifiedKFold\n",
        "skf = StratifiedKFold(n_splits=10, shuffle=True, random_state=1)\n",
        "\n",
        "# precisarei depois para a matriz de confusão e a curva roc\n",
        "number_of_classes = len(np.unique(y))\n",
        "y_pred = [] # labels preditos, utilizado para cálculo de métricas\n",
        "y_pred_proba = [] # probabilidades preditas, o que se deseja extrair\n",
        "y_true = []\n",
        "  \n",
        "# realiza o treinamento e teste do modelo usando os índices dos folds obtidos pelo skf.split(x, y)\n",
        "for train_index, test_index in skf.split(X, y):\n",
        "  # obtendo amostras de teste e treinamento a partir do índice dos folds\n",
        "  X_train_fold, X_test_fold = X_scaled[train_index], X_scaled[test_index]\n",
        "  y_train_fold, y_test_fold = y[train_index], y[test_index]\n",
        "\n",
        "  # treinamento do modelo com suas correspondentes amostras\n",
        "  model.fit(X_train_fold, y_train_fold)\n",
        "\n",
        "  # fazendo predição do modelo na amostra de teste e adicionando os resultados em uma lista \n",
        "  y_pred.extend(model.predict(X_test_fold))\n",
        "\n",
        "  # obtendo as probabilidades de cada classe para cada amostra de teste\n",
        "  fold_proba = model.predict_proba(X_test_fold)[:,1] # probabilidade da ser bom pagador(1)\n",
        "  y_pred_proba.extend(fold_proba) # adicionando na lista de probs preditas\n",
        "  \n",
        "  # preenchendo a lista com todas as amostras de teste\n",
        "  y_true.extend(y_test_fold)\n",
        "\n",
        "  # calculando a curva ROC para cada classe e a AUC\n",
        "  fpr, tpr, _ = roc_curve(y_test_fold, fold_proba, pos_label=1)\n",
        "  roc_auc = auc(fpr, tpr)\n",
        "\n",
        "  # plotando a curva ROC para cada fold\n",
        "  plt.plot(fpr, tpr, label='ROC curve (area = %0.2f)' % roc_auc)"
      ],
      "metadata": {
        "id": "1PTeT6S5o0jp",
        "colab": {
          "base_uri": "https://localhost:8080/",
          "height": 430
        },
        "outputId": "0287505f-77a0-4d10-a4db-0c988fc0d17d"
      },
      "execution_count": 12,
      "outputs": [
        {
          "output_type": "display_data",
          "data": {
            "text/plain": [
              "<Figure size 640x480 with 1 Axes>"
            ],
            "image/png": "[encoded data removed]"
          },
          "metadata": {}
        }
      ]
    },
    {
      "cell_type": "code",
      "source": [
        "# plotando a curva ROC para todos os folds\n",
        "plt.figure()\n",
        "lw = 2\n",
        "plt.plot(fpr, tpr, color='darkorange',lw=lw, label='ROC curve (area = %0.2f)' % roc_auc)\n",
        "plt.plot([0, 1], [0, 1], color='navy', lw=lw, linestyle='--')\n",
        "plt.xlim([0.0, 1.0])\n",
        "plt.ylim([0.0, 1.05])\n",
        "plt.xlabel('Taxa de Falsos Positivos')\n",
        "plt.ylabel('Taxa de Verdadeiros Positivos')\n",
        "plt.title('Curva ROC - Regressão Logística')\n",
        "plt.legend(loc=\"lower right\")\n",
        "plt.show()"
      ],
      "metadata": {
        "colab": {
          "base_uri": "https://localhost:8080/",
          "height": 472
        },
        "id": "iH5yCqndIz_9",
        "outputId": "da594fc7-383a-4711-bc7f-5e9da82ad5b6"
      },
      "execution_count": 13,
      "outputs": [
        {
          "output_type": "display_data",
          "data": {
            "text/plain": [
              "<Figure size 640x480 with 1 Axes>"
            ],
            "image/png": "[encoded data removed]"
          },
          "metadata": {}
        }
      ]
    },
    {
      "cell_type": "code",
      "source": [
        "# MÉTRICAS DE PERFORMANCE\n",
        "acc = mean(cross_val_score(model, X, y, scoring='accuracy', cv=skf, n_jobs=-1))\n",
        "precision = mean(cross_val_score(model, X, y, scoring='precision', cv=skf, n_jobs=-1))\n",
        "recall = mean(cross_val_score(model, X, y, scoring='recall', cv=skf, n_jobs=-1))\n",
        "f1_score = mean(cross_val_score(model, X, y, scoring='f1', cv=skf, n_jobs=-1))\n",
        "roc_auc = mean(cross_val_score(model, X, y, scoring='roc_auc', cv=skf, n_jobs=-1))\n",
        "\n",
        "print(f\"Acurácia: {acc:.2f}\")\n",
        "print(f\"Precisão: {precision:.2f}\")\n",
        "print(f\"Recall: {recall:.2f}\")\n",
        "print(f\"F1-Score: {f1_score:.2f}\")\n",
        "print(f\"ROC-Auc: {roc_auc:.2f}\")"
      ],
      "metadata": {
        "colab": {
          "base_uri": "https://localhost:8080/"
        },
        "id": "582o6nCw9Nju",
        "outputId": "b8e6bad8-c3fe-4b63-8e6f-2a7054c86052"
      },
      "execution_count": 14,
      "outputs": [
        {
          "output_type": "stream",
          "name": "stdout",
          "text": [
            "Acurácia: 0.73\n",
            "Precisão: 0.76\n",
            "Recall: 0.88\n",
            "F1-Score: 0.82\n",
            "ROC-Auc: 0.76\n"
          ]
        }
      ]
    },
    {
      "cell_type": "code",
      "source": [
        "tn, fp, fn, tp = confusion_matrix(y_true, y_pred).ravel()\n",
        "number_of_instances = len(df_lin)\n",
        "print(\"Matriz de Confusão:\")\n",
        "print(f\"  TN: {tn/number_of_instances:.2f}  FP: {fp/number_of_instances:.2f}\")\n",
        "print(f\"  FN: {fn/number_of_instances:.2f}  TP: {tp/number_of_instances:.2f}\")"
      ],
      "metadata": {
        "colab": {
          "base_uri": "https://localhost:8080/"
        },
        "id": "Zz71QX0LWf-K",
        "outputId": "73965d0b-da9f-4e67-d102-c16f3d9fb97a"
      },
      "execution_count": 15,
      "outputs": [
        {
          "output_type": "stream",
          "name": "stdout",
          "text": [
            "Matriz de Confusão:\n",
            "  TN: 0.11  FP: 0.19\n",
            "  FN: 0.08  TP: 0.62\n"
          ]
        }
      ]
    },
    {
      "cell_type": "code",
      "source": [
        "# passando as probabilidades para o dataframe\n",
        "df_lin[\"pred_proba\"] = y_pred_proba"
      ],
      "metadata": {
        "id": "IipYkSD2TMro"
      },
      "execution_count": 16,
      "outputs": []
    },
    {
      "cell_type": "markdown",
      "source": [
        "### Análise de Resultados"
      ],
      "metadata": {
        "id": "CoZgzeIwXwAx"
      }
    },
    {
      "cell_type": "code",
      "source": [
        "df_lin"
      ],
      "metadata": {
        "colab": {
          "base_uri": "https://localhost:8080/",
          "height": 488
        },
        "id": "qnHJ004tWW9Z",
        "outputId": "ca25a983-2984-4585-ea68-1feb99e45e1b"
      },
      "execution_count": 17,
      "outputs": [
        {
          "output_type": "execute_result",
          "data": {
            "text/plain": [
              "     status_account  duration  credit_history  purpose  credit_amount  \\\n",
              "0               0.0         6             4.0      4.0           1169   \n",
              "1               1.0        48             2.0      4.0           5951   \n",
              "2               3.0        12             4.0      7.0           2096   \n",
              "3               0.0        42             2.0      3.0           7882   \n",
              "4               0.0        24             3.0      0.0           4870   \n",
              "..              ...       ...             ...      ...            ...   \n",
              "995             3.0        12             2.0      3.0           1736   \n",
              "996             0.0        30             2.0      1.0           3857   \n",
              "997             3.0        12             2.0      4.0            804   \n",
              "998             0.0        45             2.0      4.0           1845   \n",
              "999             1.0        45             4.0      1.0           4576   \n",
              "\n",
              "     savings_account  present_employment  installment_rate  personal_status  \\\n",
              "0                4.0                 4.0                 4              2.0   \n",
              "1                0.0                 2.0                 2              1.0   \n",
              "2                0.0                 3.0                 2              2.0   \n",
              "3                0.0                 3.0                 2              2.0   \n",
              "4                0.0                 2.0                 3              2.0   \n",
              "..               ...                 ...               ...              ...   \n",
              "995              0.0                 3.0                 3              1.0   \n",
              "996              0.0                 2.0                 4              0.0   \n",
              "997              0.0                 4.0                 4              2.0   \n",
              "998              0.0                 2.0                 4              2.0   \n",
              "999              1.0                 0.0                 3              2.0   \n",
              "\n",
              "     other_debtors  ...  age  other_installment_plans  housing  \\\n",
              "0              0.0  ...   67                      2.0      1.0   \n",
              "1              0.0  ...   22                      2.0      1.0   \n",
              "2              0.0  ...   49                      2.0      1.0   \n",
              "3              2.0  ...   45                      2.0      2.0   \n",
              "4              0.0  ...   53                      2.0      2.0   \n",
              "..             ...  ...  ...                      ...      ...   \n",
              "995            0.0  ...   31                      2.0      1.0   \n",
              "996            0.0  ...   40                      2.0      1.0   \n",
              "997            0.0  ...   38                      2.0      1.0   \n",
              "998            0.0  ...   23                      2.0      2.0   \n",
              "999            0.0  ...   27                      2.0      1.0   \n",
              "\n",
              "     number_credits  job  dependents  telephone  foreign_worker  class  \\\n",
              "0                 2  2.0           1        1.0             0.0      1   \n",
              "1                 1  2.0           1        0.0             0.0      0   \n",
              "2                 1  1.0           2        0.0             0.0      1   \n",
              "3                 1  2.0           2        0.0             0.0      1   \n",
              "4                 2  2.0           2        0.0             0.0      0   \n",
              "..              ...  ...         ...        ...             ...    ...   \n",
              "995               1  1.0           1        0.0             0.0      1   \n",
              "996               1  3.0           1        1.0             0.0      1   \n",
              "997               1  2.0           1        0.0             0.0      1   \n",
              "998               1  2.0           1        1.0             0.0      0   \n",
              "999               1  2.0           1        0.0             0.0      1   \n",
              "\n",
              "     pred_proba  \n",
              "0      0.600968  \n",
              "1      0.805945  \n",
              "2      0.854024  \n",
              "3      0.834921  \n",
              "4      0.584734  \n",
              "..          ...  \n",
              "995    0.691580  \n",
              "996    0.538349  \n",
              "997    0.612547  \n",
              "998    0.447436  \n",
              "999    0.817416  \n",
              "\n",
              "[1000 rows x 22 columns]"
            ],
            "text/html": [
              "\n",
              "  <div id=\"df-154ff172-315b-4e56-887b-ef4dbbead640\">\n",
              "    <div class=\"colab-df-container\">\n",
              "      <div>\n",
              "<style scoped>\n",
              "    .dataframe tbody tr th:only-of-type {\n",
              "        vertical-align: middle;\n",
              "    }\n",
              "\n",
              "    .dataframe tbody tr th {\n",
              "        vertical-align: top;\n",
              "    }\n",
              "\n",
              "    .dataframe thead th {\n",
              "        text-align: right;\n",
              "    }\n",
              "</style>\n",
              "<table border=\"1\" class=\"dataframe\">\n",
              "  <thead>\n",
              "    <tr style=\"text-align: right;\">\n",
              "      <th></th>\n",
              "      <th>status_account</th>\n",
              "      <th>duration</th>\n",
              "      <th>credit_history</th>\n",
              "      <th>purpose</th>\n",
              "      <th>credit_amount</th>\n",
              "      <th>savings_account</th>\n",
              "      <th>present_employment</th>\n",
              "      <th>installment_rate</th>\n",
              "      <th>personal_status</th>\n",
              "      <th>other_debtors</th>\n",
              "      <th>...</th>\n",
              "      <th>age</th>\n",
              "      <th>other_installment_plans</th>\n",
              "      <th>housing</th>\n",
              "      <th>number_credits</th>\n",
              "      <th>job</th>\n",
              "      <th>dependents</th>\n",
              "      <th>telephone</th>\n",
              "      <th>foreign_worker</th>\n",
              "      <th>class</th>\n",
              "      <th>pred_proba</th>\n",
              "    </tr>\n",
              "  </thead>\n",
              "  <tbody>\n",
              "    <tr>\n",
              "      <th>0</th>\n",
              "      <td>0.0</td>\n",
              "      <td>6</td>\n",
              "      <td>4.0</td>\n",
              "      <td>4.0</td>\n",
              "      <td>1169</td>\n",
              "      <td>4.0</td>\n",
              "      <td>4.0</td>\n",
              "      <td>4</td>\n",
              "      <td>2.0</td>\n",
              "      <td>0.0</td>\n",
              "      <td>...</td>\n",
              "      <td>67</td>\n",
              "      <td>2.0</td>\n",
              "      <td>1.0</td>\n",
              "      <td>2</td>\n",
              "      <td>2.0</td>\n",
              "      <td>1</td>\n",
              "      <td>1.0</td>\n",
              "      <td>0.0</td>\n",
              "      <td>1</td>\n",
              "      <td>0.600968</td>\n",
              "    </tr>\n",
              "    <tr>\n",
              "      <th>1</th>\n",
              "      <td>1.0</td>\n",
              "      <td>48</td>\n",
              "      <td>2.0</td>\n",
              "      <td>4.0</td>\n",
              "      <td>5951</td>\n",
              "      <td>0.0</td>\n",
              "      <td>2.0</td>\n",
              "      <td>2</td>\n",
              "      <td>1.0</td>\n",
              "      <td>0.0</td>\n",
              "      <td>...</td>\n",
              "      <td>22</td>\n",
              "      <td>2.0</td>\n",
              "      <td>1.0</td>\n",
              "      <td>1</td>\n",
              "      <td>2.0</td>\n",
              "      <td>1</td>\n",
              "      <td>0.0</td>\n",
              "      <td>0.0</td>\n",
              "      <td>0</td>\n",
              "      <td>0.805945</td>\n",
              "    </tr>\n",
              "    <tr>\n",
              "      <th>2</th>\n",
              "      <td>3.0</td>\n",
              "      <td>12</td>\n",
              "      <td>4.0</td>\n",
              "      <td>7.0</td>\n",
              "      <td>2096</td>\n",
              "      <td>0.0</td>\n",
              "      <td>3.0</td>\n",
              "      <td>2</td>\n",
              "      <td>2.0</td>\n",
              "      <td>0.0</td>\n",
              "      <td>...</td>\n",
              "      <td>49</td>\n",
              "      <td>2.0</td>\n",
              "      <td>1.0</td>\n",
              "      <td>1</td>\n",
              "      <td>1.0</td>\n",
              "      <td>2</td>\n",
              "      <td>0.0</td>\n",
              "      <td>0.0</td>\n",
              "      <td>1</td>\n",
              "      <td>0.854024</td>\n",
              "    </tr>\n",
              "    <tr>\n",
              "      <th>3</th>\n",
              "      <td>0.0</td>\n",
              "      <td>42</td>\n",
              "      <td>2.0</td>\n",
              "      <td>3.0</td>\n",
              "      <td>7882</td>\n",
              "      <td>0.0</td>\n",
              "      <td>3.0</td>\n",
              "      <td>2</td>\n",
              "      <td>2.0</td>\n",
              "      <td>2.0</td>\n",
              "      <td>...</td>\n",
              "      <td>45</td>\n",
              "      <td>2.0</td>\n",
              "      <td>2.0</td>\n",
              "      <td>1</td>\n",
              "      <td>2.0</td>\n",
              "      <td>2</td>\n",
              "      <td>0.0</td>\n",
              "      <td>0.0</td>\n",
              "      <td>1</td>\n",
              "      <td>0.834921</td>\n",
              "    </tr>\n",
              "    <tr>\n",
              "      <th>4</th>\n",
              "      <td>0.0</td>\n",
              "      <td>24</td>\n",
              "      <td>3.0</td>\n",
              "      <td>0.0</td>\n",
              "      <td>4870</td>\n",
              "      <td>0.0</td>\n",
              "      <td>2.0</td>\n",
              "      <td>3</td>\n",
              "      <td>2.0</td>\n",
              "      <td>0.0</td>\n",
              "      <td>...</td>\n",
              "      <td>53</td>\n",
              "      <td>2.0</td>\n",
              "      <td>2.0</td>\n",
              "      <td>2</td>\n",
              "      <td>2.0</td>\n",
              "      <td>2</td>\n",
              "      <td>0.0</td>\n",
              "      <td>0.0</td>\n",
              "      <td>0</td>\n",
              "      <td>0.584734</td>\n",
              "    </tr>\n",
              "    <tr>\n",
              "      <th>...</th>\n",
              "      <td>...</td>\n",
              "      <td>...</td>\n",
              "      <td>...</td>\n",
              "      <td>...</td>\n",
              "      <td>...</td>\n",
              "      <td>...</td>\n",
              "      <td>...</td>\n",
              "      <td>...</td>\n",
              "      <td>...</td>\n",
              "      <td>...</td>\n",
              "      <td>...</td>\n",
              "      <td>...</td>\n",
              "      <td>...</td>\n",
              "      <td>...</td>\n",
              "      <td>...</td>\n",
              "      <td>...</td>\n",
              "      <td>...</td>\n",
              "      <td>...</td>\n",
              "      <td>...</td>\n",
              "      <td>...</td>\n",
              "      <td>...</td>\n",
              "    </tr>\n",
              "    <tr>\n",
              "      <th>995</th>\n",
              "      <td>3.0</td>\n",
              "      <td>12</td>\n",
              "      <td>2.0</td>\n",
              "      <td>3.0</td>\n",
              "      <td>1736</td>\n",
              "      <td>0.0</td>\n",
              "      <td>3.0</td>\n",
              "      <td>3</td>\n",
              "      <td>1.0</td>\n",
              "      <td>0.0</td>\n",
              "      <td>...</td>\n",
              "      <td>31</td>\n",
              "      <td>2.0</td>\n",
              "      <td>1.0</td>\n",
              "      <td>1</td>\n",
              "      <td>1.0</td>\n",
              "      <td>1</td>\n",
              "      <td>0.0</td>\n",
              "      <td>0.0</td>\n",
              "      <td>1</td>\n",
              "      <td>0.691580</td>\n",
              "    </tr>\n",
              "    <tr>\n",
              "      <th>996</th>\n",
              "      <td>0.0</td>\n",
              "      <td>30</td>\n",
              "      <td>2.0</td>\n",
              "      <td>1.0</td>\n",
              "      <td>3857</td>\n",
              "      <td>0.0</td>\n",
              "      <td>2.0</td>\n",
              "      <td>4</td>\n",
              "      <td>0.0</td>\n",
              "      <td>0.0</td>\n",
              "      <td>...</td>\n",
              "      <td>40</td>\n",
              "      <td>2.0</td>\n",
              "      <td>1.0</td>\n",
              "      <td>1</td>\n",
              "      <td>3.0</td>\n",
              "      <td>1</td>\n",
              "      <td>1.0</td>\n",
              "      <td>0.0</td>\n",
              "      <td>1</td>\n",
              "      <td>0.538349</td>\n",
              "    </tr>\n",
              "    <tr>\n",
              "      <th>997</th>\n",
              "      <td>3.0</td>\n",
              "      <td>12</td>\n",
              "      <td>2.0</td>\n",
              "      <td>4.0</td>\n",
              "      <td>804</td>\n",
              "      <td>0.0</td>\n",
              "      <td>4.0</td>\n",
              "      <td>4</td>\n",
              "      <td>2.0</td>\n",
              "      <td>0.0</td>\n",
              "      <td>...</td>\n",
              "      <td>38</td>\n",
              "      <td>2.0</td>\n",
              "      <td>1.0</td>\n",
              "      <td>1</td>\n",
              "      <td>2.0</td>\n",
              "      <td>1</td>\n",
              "      <td>0.0</td>\n",
              "      <td>0.0</td>\n",
              "      <td>1</td>\n",
              "      <td>0.612547</td>\n",
              "    </tr>\n",
              "    <tr>\n",
              "      <th>998</th>\n",
              "      <td>0.0</td>\n",
              "      <td>45</td>\n",
              "      <td>2.0</td>\n",
              "      <td>4.0</td>\n",
              "      <td>1845</td>\n",
              "      <td>0.0</td>\n",
              "      <td>2.0</td>\n",
              "      <td>4</td>\n",
              "      <td>2.0</td>\n",
              "      <td>0.0</td>\n",
              "      <td>...</td>\n",
              "      <td>23</td>\n",
              "      <td>2.0</td>\n",
              "      <td>2.0</td>\n",
              "      <td>1</td>\n",
              "      <td>2.0</td>\n",
              "      <td>1</td>\n",
              "      <td>1.0</td>\n",
              "      <td>0.0</td>\n",
              "      <td>0</td>\n",
              "      <td>0.447436</td>\n",
              "    </tr>\n",
              "    <tr>\n",
              "      <th>999</th>\n",
              "      <td>1.0</td>\n",
              "      <td>45</td>\n",
              "      <td>4.0</td>\n",
              "      <td>1.0</td>\n",
              "      <td>4576</td>\n",
              "      <td>1.0</td>\n",
              "      <td>0.0</td>\n",
              "      <td>3</td>\n",
              "      <td>2.0</td>\n",
              "      <td>0.0</td>\n",
              "      <td>...</td>\n",
              "      <td>27</td>\n",
              "      <td>2.0</td>\n",
              "      <td>1.0</td>\n",
              "      <td>1</td>\n",
              "      <td>2.0</td>\n",
              "      <td>1</td>\n",
              "      <td>0.0</td>\n",
              "      <td>0.0</td>\n",
              "      <td>1</td>\n",
              "      <td>0.817416</td>\n",
              "    </tr>\n",
              "  </tbody>\n",
              "</table>\n",
              "<p>1000 rows × 22 columns</p>\n",
              "</div>\n",
              "      <button class=\"colab-df-convert\" onclick=\"convertToInteractive('df-154ff172-315b-4e56-887b-ef4dbbead640')\"\n",
              "              title=\"Convert this dataframe to an interactive table.\"\n",
              "              style=\"display:none;\">\n",
              "        \n",
              "  <svg xmlns=\"http://www.w3.org/2000/svg\" height=\"24px\"viewBox=\"0 0 24 24\"\n",
              "       width=\"24px\">\n",
              "    <path d=\"M0 0h24v24H0V0z\" fill=\"none\"/>\n",
              "    <path d=\"M18.56 5.44l.94 2.06.94-2.06 2.06-.94-2.06-.94-.94-2.06-.94 2.06-2.06.94zm-11 1L8.5 8.5l.94-2.06 2.06-.94-2.06-.94L8.5 2.5l-.94 2.06-2.06.94zm10 10l.94 2.06.94-2.06 2.06-.94-2.06-.94-.94-2.06-.94 2.06-2.06.94z\"/><path d=\"M17.41 7.96l-1.37-1.37c-.4-.4-.92-.59-1.43-.59-.52 0-1.04.2-1.43.59L10.3 9.45l-7.72 7.72c-.78.78-.78 2.05 0 2.83L4 21.41c.39.39.9.59 1.41.59.51 0 1.02-.2 1.41-.59l7.78-7.78 2.81-2.81c.8-.78.8-2.07 0-2.86zM5.41 20L4 18.59l7.72-7.72 1.47 1.35L5.41 20z\"/>\n",
              "  </svg>\n",
              "      </button>\n",
              "      \n",
              "  <style>\n",
              "    .colab-df-container {\n",
              "      display:flex;\n",
              "      flex-wrap:wrap;\n",
              "      gap: 12px;\n",
              "    }\n",
              "\n",
              "    .colab-df-convert {\n",
              "      background-color: #E8F0FE;\n",
              "      border: none;\n",
              "      border-radius: 50%;\n",
              "      cursor: pointer;\n",
              "      display: none;\n",
              "      fill: #1967D2;\n",
              "      height: 32px;\n",
              "      padding: 0 0 0 0;\n",
              "      width: 32px;\n",
              "    }\n",
              "\n",
              "    .colab-df-convert:hover {\n",
              "      background-color: #E2EBFA;\n",
              "      box-shadow: 0px 1px 2px rgba(60, 64, 67, 0.3), 0px 1px 3px 1px rgba(60, 64, 67, 0.15);\n",
              "      fill: #174EA6;\n",
              "    }\n",
              "\n",
              "    [theme=dark] .colab-df-convert {\n",
              "      background-color: #3B4455;\n",
              "      fill: #D2E3FC;\n",
              "    }\n",
              "\n",
              "    [theme=dark] .colab-df-convert:hover {\n",
              "      background-color: #434B5C;\n",
              "      box-shadow: 0px 1px 3px 1px rgba(0, 0, 0, 0.15);\n",
              "      filter: drop-shadow(0px 1px 2px rgba(0, 0, 0, 0.3));\n",
              "      fill: #FFFFFF;\n",
              "    }\n",
              "  </style>\n",
              "\n",
              "      <script>\n",
              "        const buttonEl =\n",
              "          document.querySelector('#df-154ff172-315b-4e56-887b-ef4dbbead640 button.colab-df-convert');\n",
              "        buttonEl.style.display =\n",
              "          google.colab.kernel.accessAllowed ? 'block' : 'none';\n",
              "\n",
              "        async function convertToInteractive(key) {\n",
              "          const element = document.querySelector('#df-154ff172-315b-4e56-887b-ef4dbbead640');\n",
              "          const dataTable =\n",
              "            await google.colab.kernel.invokeFunction('convertToInteractive',\n",
              "                                                     [key], {});\n",
              "          if (!dataTable) return;\n",
              "\n",
              "          const docLinkHtml = 'Like what you see? Visit the ' +\n",
              "            '<a target=\"_blank\" href=https://colab.research.google.com/notebooks/data_table.ipynb>data table notebook</a>'\n",
              "            + ' to learn more about interactive tables.';\n",
              "          element.innerHTML = '';\n",
              "          dataTable['output_type'] = 'display_data';\n",
              "          await google.colab.output.renderOutput(dataTable, element);\n",
              "          const docLink = document.createElement('div');\n",
              "          docLink.innerHTML = docLinkHtml;\n",
              "          element.appendChild(docLink);\n",
              "        }\n",
              "      </script>\n",
              "    </div>\n",
              "  </div>\n",
              "  "
            ]
          },
          "metadata": {},
          "execution_count": 17
        }
      ]
    },
    {
      "cell_type": "markdown",
      "source": [
        "Há clientes classificados como 1 com probabilidade menor de ser bom pagador do que outros que estão classificados como 0. \n",
        "Os rótulos desbalanceados atrapalham um pouco a acurácia e outros fatores ainda não identificados também contribuem para esse resultado não muito adequado."
      ],
      "metadata": {
        "id": "vKuSTqCtYE8Y"
      }
    },
    {
      "cell_type": "code",
      "source": [
        "# quebra da probabilidade de ser um bom pagador para cada um dos rótulos.\n",
        "fig, (hist1, hist2) = plt.subplots(1, 2, figsize=(10, 4))\n",
        "\n",
        "hist1.hist(df_lin[df_lin['class'] == 1]['pred_proba'], bins=np.arange(0.0, 1.1, 0.1))\n",
        "hist1.set_xlabel('Probabilidade de Ser Bom Pagador')\n",
        "hist1.set_ylabel('Clientes')\n",
        "hist1.set_title('Classe 1')\n",
        "\n",
        "hist2.hist(df_lin[df_lin['class'] == 0]['pred_proba'], bins=np.arange(0.0, 1.1, 0.1))\n",
        "hist2.set_xlabel('Probabilidade de Ser Bom Pagador')\n",
        "hist2.set_ylabel('Clientes')\n",
        "hist2.set_title('Classe 0')\n",
        "\n",
        "plt.tight_layout()\n",
        "plt.show()"
      ],
      "metadata": {
        "id": "ZzWTh7OGYBRb",
        "colab": {
          "base_uri": "https://localhost:8080/",
          "height": 407
        },
        "outputId": "915eef12-c4a3-4e46-af9b-0c9b7aa02144"
      },
      "execution_count": 18,
      "outputs": [
        {
          "output_type": "display_data",
          "data": {
            "text/plain": [
              "<Figure size 1000x400 with 2 Axes>"
            ],
            "image/png": "[encoded data removed]"
          },
          "metadata": {}
        }
      ]
    },
    {
      "cell_type": "markdown",
      "source": [
        "Para aqueles rotulados como 1, como é de se esperar, há uma concentração maior nas probabilidade mais altas, consideremos acima de 60%.\n",
        "Contudo, para aqueles rotulados como 0, deveria haver uma maior concentração nas probabilidades menores e o que acontece é que uma parte desses clientes rotulados como maus pagadores se concentraram na barra de 90% de probabilidade de ser bom pagador e em probabilidades altas no geral."
      ],
      "metadata": {
        "id": "1T_x3tF23mqn"
      }
    },
    {
      "cell_type": "markdown",
      "source": [
        "Por conta da base de dados ser muito pequena, não pareceu adequado usar as técnicas de reamostragem oversampling e undersampling. A primeira, porque poderia causar um overfitting no modelo ao criar amostras demais e se ajustar muito aos dados de treinamento, sem qualidade de generalização, e porque poderia enviesar o resultado da modelagem ao tentar tornar a classe minoritária mais relevante nos resultados. E a segunda, porque ao retirar da base instâncias da classe majoritária para tentar tornar a base mais equilibrada, seriam perdidos dados relevantes para a modelagem.\n",
        "\n",
        "Além disso, ao colocar o hiperparâmetro *class_weight='balanced'* na definição do modelo, obteve-se uma performance com qualidade inferior e por isso ele foi retirado das configurações do modelo.\n",
        "\n"
      ],
      "metadata": {
        "id": "bPmq5p5bLZ5J"
      }
    },
    {
      "cell_type": "markdown",
      "source": [
        "### Conclusão"
      ],
      "metadata": {
        "id": "4Tkx-UsvUt8h"
      }
    },
    {
      "cell_type": "markdown",
      "source": [
        "Considerando os resultados obtidos e sua análise, pode-se dizer que o modelo teve um desempenho com acurácia aceitável para um problema de risco de crédito. É esperado que as classes num problema de risco estejam desbalanceadas, sendo a classe de bons pagadores (1) a majoritária, felizmente. Ao tentar ajustar o modelo para que a acurácia seja elevada, o modelo tenderia a ser \"otimista\" e identificar mais os bons exemplos (já que são a classe predominante) e perderia um pouco da sua capacidade de identificar maus pagadores, o que é justamente o objetivo de um problema de risco. Nos indicando, portanto, que a acurácia por si só pode ser enganosa.\n",
        "\n",
        "Então faz sentido manter um modelo com acurária um pouco abaixo, mas ainda boa, e analisar o conjunto das demais métricas calculadas: precisão, recall, f1-Score e curva ROC. Elas estão muito agradáveis nesta modelagem."
      ],
      "metadata": {
        "id": "m8N1qAu1Uy2D"
      }
    },
    {
      "cell_type": "code",
      "source": [
        "# criando os filtros para cada perfil definido de cliente\n",
        "bom_pagador = (df_lin['pred_proba'] >= 0.6) & (df_lin['class'] == 1)\n",
        "pagador_em_analise = (df_lin['pred_proba'] <= 0.6) & (df_lin['class'] == 1) | (df_lin['pred_proba'] >= 0.6) & (df_lin['class'] == 0)\n",
        "mau_pagador = (df_lin['pred_proba'] <= 0.6) & (df_lin['class'] == 0)\n",
        "\n",
        "# criando subsets da base original com a aplicação dos filtros\n",
        "df_bom_pagador = df_lin.loc[bom_pagador]\n",
        "df_pagador_em_analise = df_lin.loc[pagador_em_analise] \n",
        "df_mau_pagador = df_lin.loc[mau_pagador]\n",
        "\n",
        "# impressão da contagem de clientes em cada status de crédito\n",
        "print(\"Bom pagador | Concessão de Crédito: \", len(df_bom_pagador))\n",
        "print(\"Perfil duvidoso | Crédito em Análise: \", len(df_pagador_em_analise))\n",
        "print(\"Mau pagador | Risco de Crédito: \", len(df_mau_pagador))"
      ],
      "metadata": {
        "colab": {
          "base_uri": "https://localhost:8080/"
        },
        "id": "VDk6RSuqaHQH",
        "outputId": "5b52f25b-4b97-4017-8b51-746ecef8d1e9"
      },
      "execution_count": 19,
      "outputs": [
        {
          "output_type": "stream",
          "name": "stdout",
          "text": [
            "Bom pagador | Concessão de Crédito:  493\n",
            "Perfil Duvidoso | Crédito em Análise:  411\n",
            "Mau pagador | Risco de Crédito:  96\n"
          ]
        }
      ]
    },
    {
      "cell_type": "markdown",
      "source": [
        "Tendo isso em vista, a filtragem dos bons pagadores vai depender dos requisitos determinados por cada negócio. No caso desta análise, como exemplo, estabeleceremos que os bons pagadores são aqueles rotulado como 1 e com probabilidade maior ou igual a 60% de ser bom pagador. Já aqueles rotulados como 1, mas que têm probabilidade menor do que 60% e os rotulado como 0 e com probabilidade maior ou igual a 60% são considerados intermediários e o crédito pode ser concedido a depender do valor e da duração do crédito, além de segunda etapa de análise do histórico desse cliente. E os demais, classificados como 0 e abaixo de 60% de probabilidade de ser bom pagador, são definitivamente maus pagadores."
      ],
      "metadata": {
        "id": "19ZQMfgFZq9F"
      }
    },
    {
      "cell_type": "markdown",
      "source": [
        "# Bibliografia\n",
        "\n",
        "* [UCI Machine Learning Repository. Statlog (German Credit Data) Data Set](https://archive.ics.uci.edu/ml/datasets/statlog+(german+credit+data))\n",
        "* [Medium. Dados Desbalanceados — O Que São e Como Lidar Com Eles](https://medium.com/turing-talks/dados-desbalanceados-o-que-s%C3%A3o-e-como-evit%C3%A1-los-43df4f49732b)\n",
        "* [Analytics Vidhya. Top 7 Cross-Validation Techniques](https://www.analyticsvidhya.com/blog/2021/11/top-7-cross-validation-techniques-with-python-code/)"
      ],
      "metadata": {
        "id": "HQI3ogwpmBAH"
      }
    }
  ]
}
